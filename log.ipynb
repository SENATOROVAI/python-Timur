{
 "cells": [
  {
   "cell_type": "markdown",
   "metadata": {},
   "source": [
    "дата урока\n",
    "\n",
    "1) что делали на уроке\n",
    "2)...\n",
    "\n",
    "\n"
   ]
  },
  {
   "cell_type": "markdown",
   "metadata": {},
   "source": [
    "дата урока\n",
    "\n",
    "1) что делали\n",
    "2)..."
   ]
  }
 ],
 "metadata": {
  "language_info": {
   "name": "python"
  }
 },
 "nbformat": 4,
 "nbformat_minor": 2
}
