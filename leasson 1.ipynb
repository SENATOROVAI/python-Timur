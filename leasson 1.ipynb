{
 "cells": [
  {
   "cell_type": "code",
   "execution_count": null,
   "metadata": {},
   "outputs": [],
   "source": [
    "принятие домашки\n",
    "1.зайти в Visual Code\n",
    "2.нажать 3 кружочка.\n",
    "3.нажимаем на 3 точки\n",
    "4.нажимае на pull\n",
    "5.нажимае на кнопку внизу comits\n",
    "отдача домашки\n",
    "1.зайти в 3 точки\n",
    "2.пишем в поле MESSAGE название дз\n",
    "3.нажать на comit\n",
    "4.нажать на 3 точки.\n",
    "5.нажимаешь пуш."
   ]
  }
 ],
 "metadata": {
  "language_info": {
   "name": "python"
  }
 },
 "nbformat": 4,
 "nbformat_minor": 2
}
